{
 "cells": [
  {
   "cell_type": "code",
   "execution_count": 1,
   "metadata": {},
   "outputs": [],
   "source": [
    "# Dziedziczenie (Inheritance)\n",
    "# dziedziczenie jest sposobem budowania nowych klas w oparciu o klasy ktory zostaly juz zdefiniowane. \n",
    "# Nowo uformowane klasy nazywany pochodnymi (derywatami) klas bazowych. Istotnymi korzysciami plynacymi z \n",
    "# dziedziczenia sa: ponowne uzycie wczesniej powstalego kodu (klasy bazowe) i redukcja nadmiarowosci kody / \n",
    "# skomplikowania programu. Klasy pochodne (potomkowie) nadpisuja klasy bazowe lub przedluzaja funkcjonalnosc \n",
    "# klas bazowych (przodkow). Zobrazujmy to przykladem. "
   ]
  },
  {
   "cell_type": "code",
   "execution_count": 2,
   "metadata": {},
   "outputs": [],
   "source": [
    "class Zwierze:\n",
    "    def __init__(self):\n",
    "        print(\"Zwierze zostalo stworzone\")\n",
    "\n",
    "    def kimJestem(self):\n",
    "        print(\"Zwierze\")\n",
    "\n",
    "    def jedz(self):\n",
    "        print(\"Jedzenie\")\n",
    "\n",
    "\n",
    "class Pies(Zwierze):\n",
    "    def __init__(self):\n",
    "        Zwierze.__init__(self)\n",
    "        print(\"Pies zostal stworzony\")\n",
    "\n",
    "    def kimJestem(self):\n",
    "        print(\"Pies\")\n",
    "\n",
    "    def szczekaj(self):\n",
    "        print(\"Hauu\")"
   ]
  },
  {
   "cell_type": "code",
   "execution_count": 3,
   "metadata": {},
   "outputs": [
    {
     "name": "stdout",
     "output_type": "stream",
     "text": [
      "Zwierze zostalo stworzone\n",
      "Pies zostal stworzony\n"
     ]
    }
   ],
   "source": [
    "p = Pies()"
   ]
  },
  {
   "cell_type": "code",
   "execution_count": 4,
   "metadata": {},
   "outputs": [
    {
     "name": "stdout",
     "output_type": "stream",
     "text": [
      "Pies\n"
     ]
    }
   ],
   "source": [
    "p.kimJestem()"
   ]
  },
  {
   "cell_type": "code",
   "execution_count": 5,
   "metadata": {},
   "outputs": [
    {
     "name": "stdout",
     "output_type": "stream",
     "text": [
      "Jedzenie\n"
     ]
    }
   ],
   "source": [
    "p.jedz()"
   ]
  },
  {
   "cell_type": "code",
   "execution_count": 6,
   "metadata": {},
   "outputs": [
    {
     "name": "stdout",
     "output_type": "stream",
     "text": [
      "Hauu\n"
     ]
    }
   ],
   "source": [
    "p.szczekaj()"
   ]
  },
  {
   "cell_type": "code",
   "execution_count": 7,
   "metadata": {},
   "outputs": [],
   "source": [
    "# W powyzszym przykladzie mamy dwie klasy: klase bazowa Zwierze i klase pochodna Pies. \n",
    "# klasa pochodna dziedziczy funkcjonalnosc klasy bazowej. Widzmimy to przy wykorzystaniu metody jedz(). \n",
    "# klasa pochodna modyfikuje tez zachowanie klasy bazowej (nadpisuje istniejaca metode) co widzmy w zachowaniu \n",
    "# klasy kimJestem(). Na koniec zauwazmy ze klasa pochodna wydluza funkcjonalnosc klasy bazowej, poprzez definicje \n",
    "# nowej metody szczekaj()\n",
    "# note to self:: pokazac przyklad z Django classy user"
   ]
  },
  {
   "cell_type": "code",
   "execution_count": 8,
   "metadata": {},
   "outputs": [],
   "source": [
    "# Polimorfizm \n",
    "# Wiemy iz fukncje w pythonie akceptuja rozne argumenty, natomiast metody to fuknkcje przynalezace do \n",
    "# konkretnych obiektow. W pythonie, polimorfizm odnosi sie to sposobu w ktorym klasy obiektow moga wspoldzielic \n",
    "# ta sama nazwe metody. "
   ]
  },
  {
   "cell_type": "code",
   "execution_count": 9,
   "metadata": {},
   "outputs": [],
   "source": [
    "class Pies:\n",
    "    def __init__(self, imie):\n",
    "        self.imie = imie\n",
    "\n",
    "    def przemow(self):\n",
    "        return self.imie+' mowi Hauu!'\n",
    "    \n",
    "class Kot:\n",
    "    def __init__(self, imie):\n",
    "        self.imie = imie\n",
    "\n",
    "    def przemow(self):\n",
    "        return self.imie+' mowi Miauuu!' \n",
    "    \n",
    "fafik = Pies('Fafik')\n",
    "felix = Kot('Felix')"
   ]
  },
  {
   "cell_type": "code",
   "execution_count": 10,
   "metadata": {},
   "outputs": [
    {
     "name": "stdout",
     "output_type": "stream",
     "text": [
      "Fafik mowi Hauu!\n"
     ]
    }
   ],
   "source": [
    "print(fafik.przemow())"
   ]
  },
  {
   "cell_type": "code",
   "execution_count": 11,
   "metadata": {},
   "outputs": [
    {
     "name": "stdout",
     "output_type": "stream",
     "text": [
      "Felix mowi Miauuu!\n"
     ]
    }
   ],
   "source": [
    "print(felix.przemow())"
   ]
  },
  {
   "cell_type": "code",
   "execution_count": 12,
   "metadata": {},
   "outputs": [],
   "source": [
    "# w powyzszym przykladzie mamy klase Pies i klase Kot, kazda klasa posiada metode .przemow(). \n",
    "# podczas wywolania metody, metoday .przemow() przynalezna do dwoch roznych obiektow zwraca dwa unikalne rezultaty.  "
   ]
  },
  {
   "cell_type": "code",
   "execution_count": 13,
   "metadata": {},
   "outputs": [],
   "source": [
    "# Istnieje kilka innych sposobow zademonstrowania polimorfizmu np. poprz petle:"
   ]
  },
  {
   "cell_type": "code",
   "execution_count": 14,
   "metadata": {},
   "outputs": [
    {
     "name": "stdout",
     "output_type": "stream",
     "text": [
      "Fafik mowi Hauu!\n",
      "Felix mowi Miauuu!\n"
     ]
    }
   ],
   "source": [
    "for zwierze in [fafik, felix]:\n",
    "    print(zwierze.przemow())"
   ]
  },
  {
   "cell_type": "code",
   "execution_count": 15,
   "metadata": {},
   "outputs": [],
   "source": [
    "# np. poprzez fukncje \n",
    "\n",
    "def zwierze_mowi(zwierze):\n",
    "    print(zwierze.przemow())"
   ]
  },
  {
   "cell_type": "code",
   "execution_count": 16,
   "metadata": {},
   "outputs": [
    {
     "name": "stdout",
     "output_type": "stream",
     "text": [
      "Fafik mowi Hauu!\n",
      "Felix mowi Miauuu!\n"
     ]
    }
   ],
   "source": [
    "zwierze_mowi(fafik)\n",
    "zwierze_mowi(felix)"
   ]
  },
  {
   "cell_type": "code",
   "execution_count": 17,
   "metadata": {},
   "outputs": [],
   "source": [
    "# w obu przypadkach przekazujemy dwa rozne obiekty do fukncji zwierze_mowi() i otrzymujemy specyficzny\n",
    "# dla danego obiektu rezultat. "
   ]
  },
  {
   "cell_type": "code",
   "execution_count": 18,
   "metadata": {},
   "outputs": [],
   "source": [
    "# Czesta praktyka jest uzycie klasy abstrakcyjnej a nastepnie dziedziczenie tej klasy. \n",
    "# Klasa abstrakcyjna to klasa ktorej nie zamierzamy bezposrednio zinstancjalizowac. \n",
    "# np. klasa nigdy nie bedziemy mieli objektu Zwierze a jedynie obikety Pies i Kot ktore beda \n",
    "# obiektami pochodnymi klasy Zwierze "
   ]
  },
  {
   "cell_type": "code",
   "execution_count": 19,
   "metadata": {},
   "outputs": [
    {
     "name": "stdout",
     "output_type": "stream",
     "text": [
      "Fido mowi Hauu!\n",
      "Isis mowi Miau\n"
     ]
    }
   ],
   "source": [
    "class Zwierze:\n",
    "    def __init__(self, imie):    # konstruktor klasy \n",
    "        self.imie = imie\n",
    "\n",
    "    def przemow(self):          # abstrakcyjna metoda zdefiniowana dla konwencji \n",
    "        raise NotImplementedError(\"Klasa pochodna musi zaimplementowac ta metode\")\n",
    "\n",
    "\n",
    "class Pies(Zwierze):\n",
    "    \n",
    "    def przemow(self):\n",
    "        return self.imie+' mowi Hauu!'\n",
    "    \n",
    "class Kot(Zwierze):\n",
    "\n",
    "    def przemow(self):\n",
    "        return self.imie+' mowi Miau'\n",
    "    \n",
    "fido = Pies('Fido')\n",
    "isis = Kot('Isis')\n",
    "\n",
    "print(fido.przemow())\n",
    "print(isis.przemow())"
   ]
  },
  {
   "cell_type": "code",
   "execution_count": 20,
   "metadata": {},
   "outputs": [],
   "source": [
    "# praktyczne przyklady zastosowania polimorfizmu \n",
    "# motoda .add czy operator + :: mozemy za pomoca tej samej metody dodac dwie liczby (obiekt int) \n",
    "# ale tez dokonac konkatenacja czyli polaczenia stringu (objetu string)"
   ]
  },
  {
   "cell_type": "code",
   "execution_count": 21,
   "metadata": {},
   "outputs": [
    {
     "data": {
      "text/plain": [
       "9"
      ]
     },
     "execution_count": 21,
     "metadata": {},
     "output_type": "execute_result"
    }
   ],
   "source": [
    "4 + 5 "
   ]
  },
  {
   "cell_type": "code",
   "execution_count": 22,
   "metadata": {},
   "outputs": [
    {
     "data": {
      "text/plain": [
       "'abcd'"
      ]
     },
     "execution_count": 22,
     "metadata": {},
     "output_type": "execute_result"
    }
   ],
   "source": [
    "'ab'+'cd'"
   ]
  },
  {
   "cell_type": "code",
   "execution_count": 23,
   "metadata": {},
   "outputs": [],
   "source": [
    "# specjalne metody wewnatrz klas \n",
    "# klasy w pythonie moga zaimplementowac pewne operacje za pomoca specjalnych metod ktory sa wywolywane za \n",
    "# pomoca charakterystycznej skladni, syntaxu \n",
    "\n",
    "# dla przyklady zbudujmy klase Ksiazka:"
   ]
  },
  {
   "cell_type": "code",
   "execution_count": 24,
   "metadata": {},
   "outputs": [],
   "source": [
    "class Ksiazka:\n",
    "    def __init__(self, tytul, autor, strony):\n",
    "        print(\"Ksiazka zostala utworzona!\")\n",
    "        self.tytul = tytul\n",
    "        self.autor = autor\n",
    "        self.strony = strony\n",
    "\n",
    "    def __str__(self):\n",
    "        return \"Tytul: %s, Autor: %s, Strony: %s\" %(self.tytul, self.autor, self.strony)\n",
    "      \n",
    "\n",
    "    def __len__(self):\n",
    "        return self.strony \n",
    "\n",
    "    def __del__(self):\n",
    "        print(\"Ksiazka zostala zniszczona!\")"
   ]
  },
  {
   "cell_type": "code",
   "execution_count": 25,
   "metadata": {},
   "outputs": [
    {
     "name": "stdout",
     "output_type": "stream",
     "text": [
      "Pzyklad prostego formatowania\n",
      "Przyklad formatowania z wykorzystaniem symbolu procenta\n"
     ]
    }
   ],
   "source": [
    "# formatowanie w pythonie zamiast konkatenacji mozna wykorzystac symbol % do formatowania \n",
    "# np. \n",
    "\n",
    "print(\"Pzyklad prostego formatowania\")\n",
    "\n",
    "s = 'z wykorzystaniem' \n",
    "\n",
    "print ('Przyklad formatowania %s symbolu procenta' %(s))"
   ]
  },
  {
   "cell_type": "code",
   "execution_count": 26,
   "metadata": {},
   "outputs": [
    {
     "name": "stdout",
     "output_type": "stream",
     "text": [
      "Ksiazka zostala utworzona!\n"
     ]
    }
   ],
   "source": [
    "ksiazka = Ksiazka(\"Pan Tadeusz\", \"Adam Mickiewicz\", 200)"
   ]
  },
  {
   "cell_type": "code",
   "execution_count": 27,
   "metadata": {},
   "outputs": [
    {
     "name": "stdout",
     "output_type": "stream",
     "text": [
      "Tytul: Pan Tadeusz, Autor: Adam Mickiewicz, Strony: 200\n",
      "200\n",
      "Ksiazka zostala zniszczona!\n"
     ]
    }
   ],
   "source": [
    "# specjalne metody \n",
    "print(ksiazka)\n",
    "print(len(ksiazka))\n",
    "del ksiazka"
   ]
  },
  {
   "cell_type": "code",
   "execution_count": 28,
   "metadata": {},
   "outputs": [],
   "source": [
    "# metody __init__(), __str__(), __len__(), __del__()\n",
    "# Te specjalne metody definowane sa poprzez zastosowanie podwojnego podkreslnika "
   ]
  },
  {
   "cell_type": "code",
   "execution_count": null,
   "metadata": {},
   "outputs": [],
   "source": []
  }
 ],
 "metadata": {
  "kernelspec": {
   "display_name": "Python 3",
   "language": "python",
   "name": "python3"
  },
  "language_info": {
   "codemirror_mode": {
    "name": "ipython",
    "version": 3
   },
   "file_extension": ".py",
   "mimetype": "text/x-python",
   "name": "python",
   "nbconvert_exporter": "python",
   "pygments_lexer": "ipython3",
   "version": "3.8.5"
  }
 },
 "nbformat": 4,
 "nbformat_minor": 4
}
