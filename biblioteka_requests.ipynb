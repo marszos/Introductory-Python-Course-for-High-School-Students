{
 "cells": [
  {
   "cell_type": "code",
   "execution_count": 1,
   "metadata": {},
   "outputs": [],
   "source": [
    "# przyklad jednej z bardzo popularnych bibliotek na podstwie randomowego video z youtuba ktore wyswietlilo mi sie \n",
    "# w zeszlym tyg \n",
    "\n",
    "\n",
    "# https://www.youtube.com/watch?v=43MnYJ6cd48\n",
    "# dziewczyna  w video mowi ze lubi w zyciu wszystko zautomatozwac. Odwiedzil ja znajomy ktory poprosil o wymyslenie \n",
    "# imienia dla psa wiec postanowila napisac algortym losowo wybierajacy imie dla pupila \n",
    "\n",
    "# biblioteka ktorej bedzimy uzywali to requests najpierw musimy ja zainstalowac za pomoca menadzera pakietow pip \n",
    "# a nastepnie zaimportowac \n",
    "\n",
    "# pip \n",
    "# https://pl.wikipedia.org/wiki/Pip_(menadżer_pakietów)\n",
    "# https://pypi.org/project/requests/\n",
    "\n",
    "# do czego sluzy bibloteka requests? To bibiloteka ktora pozwala nam sie polaczyc przez protokol HTTP ze strona \n",
    "# a nastepnie cala zawartosc strony zapisac w postaci obiektu ktorym nastepnie mozemy manipulowac"
   ]
  },
  {
   "cell_type": "code",
   "execution_count": 2,
   "metadata": {},
   "outputs": [],
   "source": [
    "# przyklad z video \n",
    "# importujemy dwie biblioteki \n",
    "import requests\n",
    "from random import randint\n",
    "\n",
    "# strona zawierajaca przypadkowe imiona \n",
    "# https://svnweb.freebsd.org/csrg/share/dict/propernames?revision=61766&view=co\n",
    "\n",
    "url = \"https://svnweb.freebsd.org/csrg/share/dict/propernames?revision=61766&view=co\"\n",
    "\n",
    "r = requests.get(url)"
   ]
  },
  {
   "cell_type": "code",
   "execution_count": 3,
   "metadata": {},
   "outputs": [
    {
     "data": {
      "text/plain": [
       "'Aaron\\nAdam\\nAdlai\\nAdrian\\nAgatha\\nAhmed\\nAhmet\\nAimee\\nAmy\\nAmi\\nAl\\nAlain\\nAlan\\nAlastair\\nAlbert\\nAlberto\\nAlejandro\\nAlex\\nAlexander\\nAlexis\\nAlf\\nAlfred\\nAlison\\nAllan\\nAllen\\nAlvin\\nAmanda\\nAmarth\\nAmedeo\\nAmi\\nAmigo\\nAmir\\nAmos\\nAmy\\nAnatole\\nAnatoly\\nAnderson\\nAndre\\nAndrea\\nAndreas\\nAndrew\\nAndries\\nAndy\\nAngela\\nAngus\\nAnita\\nAnn\\nAnna\\nAnnard\\nAnne\\nAnnie\\nAnthony\\nAnton\\nAntonella\\nAntonio\\nAntony\\nArchie\\nAriel\\nArlene\\nArne\\nArnold\\nArt\\nArthur\\nAudrey\\nAvery\\nAxel\\nBarbara\\nBarbra\\nBarney\\nBarrett\\nBarrio\\nBarry\\nBart\\nBarton\\nBea\\nBecky\\nBeckie\\nBelinda\\nBen\\nBenjamin\\nBenson\\nBernard\\nBernie\\nBert\\nBertrand\\nBeth\\nBetsy\\nBetty\\nBeverly\\nBill\\nBilly\\nBillie\\nBjorne\\nBlaine\\nBlair\\nBlake\\nBlayne\\nBob\\nBobbie\\nBobby\\nBonnie\\nBoyce\\nBoyd\\nBrad\\nBradford\\nBradley\\nBrandi\\nBrandon\\nBrandy\\nBrenda\\nBrendan\\nBrender\\nBrent\\nBret\\nBrett\\nBrian\\nBriggs\\nBrodie\\nBrooke\\nBruce\\nBruno\\nBryan\\nBryce\\nBucky\\nBud\\nButler\\nByron\\nCaleb\\nCalvin\\nCarisa\\nCarl\\nCarlo\\nCarlos\\nCarol\\nCarole\\nCaroline\\nCarolyn\\nCarsten\\nKirsten\\nCristi\\nKristi\\nCarter\\nCary\\nCase\\nCasey\\nLeith\\nCasper\\nCathy\\nCatherine\\nCathrin\\nCathryn\\nCecilia\\nCeleste\\nCelia\\nCharleen\\nCharlene\\nCharles\\nCharley\\nCharlie\\nChet\\nChip\\nChris\\nChristian\\nChristie\\nChristina\\nChristofer\\nChristophe\\nChristopher\\nChuck\\nCharles\\nCindie\\nCindy\\nClara\\nClare\\nClaire\\nClarence\\nClarissa\\nClark\\nClaude\\nClaudia\\nClaudio\\nClay\\nClayton\\nSamuel\\nCliff\\nClifford\\nClyde\\nCole\\nClem\\nColeen\\nColin\\nCollin\\nConnie\\nConrad\\nCorey\\nCory\\nCourtney\\nCraig\\nCris\\nKris\\nCristina\\nCristopher\\nCurt\\nCurtis\\nCynthia\\nCyrus\\nDale\\nDalton\\nDamon\\nDamone\\nRamon\\nDan\\nDana\\nDani\\nDaniel\\nDaniele\\nDanielle\\nDanny\\nDannie\\nDarci\\nDaren\\nDarin\\nDarrell\\nDarren\\nDarryl\\nDaryl\\nDave\\nDavid\\nDawn\\nDawson\\nDean\\nDeb\\nDebbie\\nDebi\\nDeborah\\nDeirdre\\nDel\\nDelbert\\nDenis\\nDennis\\nDerek\\nDevon\\nHuey\\nDewey\\nLouis\\nLouie\\nDiana\\nDiane\\nDick\\nRichard\\nDieter\\nDimitry\\nDimetry\\nDion\\nDirk\\nDominic\\nDominick\\nDon\\nDonal\\nDonald\\nDonn\\nDonne\\nDonna\\nDonnie\\nDonovan\\nDori\\nDory\\nDorian\\nDorothy\\nDoug\\nDouglas\\nDoyle\\nDrew\\nDuane\\nDuke\\nDuncan\\nDustin\\nDwayne\\nDwight\\nDylan\\nEarl\\nEarle\\nEarnie\\nErnie\\nEd\\nEddy\\nEdgar\\nEddie\\nEdith\\nEdmond\\nEdmund\\nEduardo\\nEdward\\nEdwin\\nEva\\nEileen\\nErick\\nErik\\nEric\\nElaine\\nEli\\nElias\\nElijah\\nEliot\\nElisabeth\\nElizabeth\\nEllen\\nElliot\\nElliott\\nElric\\nElsa\\nElvis\\nEmil\\nEmily\\nElwood\\nEmma\\nEmmett\\nEric\\nErik\\nErnest\\nErnie\\nErnst\\nErwin\\nEthan\\nEugene\\nEvan\\nEvelyn\\nEverett\\nFarouk\\nFay\\nFrederick\\nFelix\\nFletcher\\nFloria\\nFlorian\\nFloyd\\nFrances\\nFrancis\\nFrancisco\\nFrancois\\nFrank\\nFranklin\\nJerrie\\nJerry\\nFred\\nFrederic\\nFrederick\\nFritz\\nGabriel\\nGail\\nGale\\nGalen\\nGary\\nGene\\nGeoff\\nGeoffrey\\nJeff\\nJeffrey\\nJeffie\\nGeorge\\nGerald\\nJerald\\nHazel\\nGerard\\nGideon\\nGigi\\nGil\\nGill\\nGilles\\nGiles\\nGinny\\nJinny\\nGiovanni\\nGlen\\nGlenn\\nGlynn\\nGordon\\nGrace\\nGraeme\\nGraham\\nGrant\\nGranville\\nGreg\\nGregg\\nGregge\\nGregor\\nGregory\\nGretchen\\nGriff\\nGuido\\nGuillermo\\nGunnar\\nGunter\\nGuy\\nGypsy\\nHal\\nHamilton\\nHank\\nHans\\nHarmon\\nHarold\\nHarris\\nHarry\\nHartmann\\nHarv\\nHarvey\\nHeather\\nHector\\nHeidi\\nHein\\nHeinrich\\nHeinz\\nHelen\\nHelge\\nHenry\\nHerb\\nHerbert\\nHerman\\nHerve\\nHienz\\nHilda\\nHillary\\nHillel\\nHimawan\\nHirofumi\\nHirotoshi\\nHiroyuki\\nHitoshi\\nHohn\\nHolly\\nHon\\nHonzo\\nHorst\\nHotta\\nHoward\\nHsi\\nHsuan\\nHuashi\\nHubert\\nHugh\\nHughes\\nHui\\nHume\\nHunter\\nHurf\\nHwa\\nHy\\nIan\\nIlya\\nIma\\nIndra\\nIra\\nIrfan\\nIrvin\\nIrving\\nIrwin\\nIsaac\\nIsabelle\\nIsidore\\nIsrael\\nIzchak\\nIzumi\\nIzzy\\nJack\\nJackye\\nJacob\\nJacobson\\nJacques\\nJagath\\nJaime\\nJakob\\nJames\\nJamie\\nJan\\nJane\\nJanet\\nJanice\\nJanos\\nJared\\nJarl\\nJarmo\\nJarvis\\nJason\\nJay\\nJayant\\nJayesh\\nJean\\nJean-Christophe\\nJean-Pierre\\nJeanette\\nJeanne\\nJeannette\\nJeannie\\nJeany\\nJef\\nJeff\\nJeffery\\nJeffrey\\nJelske\\nJem\\nJenine\\nJennie\\nJennifer\\nJeremy\\nJerome\\nJerry\\nJesper\\nJess\\nJesse\\nJesus\\nJi\\nJianyun\\nJill\\nJim\\nJimmy\\nJin\\nJinchao\\nJingbai\\nJiri\\nJisheng\\nJitendra\\nJoachim\\nJoanne\\nJochen\\nJock\\nJoe\\nJoel\\nJohan\\nJohann\\nJohn\\nJohnathan\\nJohnnie\\nJohnny\\nJon\\nJonathan\\nJones\\nJong\\nJoni\\nJoon\\nJordan\\nJorge\\nJos\\nJose\\nJoseph\\nJosh\\nJoshua\\nJosip\\nJoubert\\nJoyce\\nJuan\\nJudge\\nJudith\\nJudy\\nJuergen\\nJuha\\nJulia\\nJulian\\nJuliane\\nJulianto\\nJulie\\nJuliet\\nJulius\\nJun\\nJune\\nJurevis\\nJuri\\nJussi\\nJustin\\nJwahar\\nKaj\\nKamel\\nKamiya\\nKanthan\\nKaren\\nKari\\nKarl\\nKate\\nKathleen\\nKathryn\\nKathy\\nKay\\nKayvan\\nKazuhiro\\nKee\\nKees\\nKeith\\nKelly\\nKelvin\\nKemal\\nKen\\nKenn\\nKenneth\\nKent\\nKenton\\nKerri\\nKerry\\nKevan\\nKevin\\nKevyn\\nKieran\\nKiki\\nKikki\\nKim\\nKimberly\\nKimmo\\nKinch\\nKing\\nKirk\\nKit\\nKitty\\nKlaudia\\nKlaus\\nKnapper\\nKnudsen\\nKnut\\nKnute\\nKolkka\\nKonrad\\nKonstantinos\\nKory\\nKris\\nKristen\\nKristi\\nKristian\\nKristin\\nKriton\\nKrzysztof\\nKuldip\\nKurt\\nKusum\\nKyle\\nKylo\\nKyu\\nKyung\\nLana\\nLance\\nLanny\\nLar\\nLarry\\nLars\\nLaura\\nLaurel\\nLaurence\\nLaurent\\nLaurianne\\nLaurie\\nLawrence\\nLea\\nLeads\\nLee\\nLeif\\nLeigh\\nLeila\\nLen\\nLenora\\nLenny\\nLeo\\nLeon\\nLeonard\\nLeora\\nLes\\nLeslie\\nLester\\nLeung\\nLewis\\nLex\\nLiber\\nLievaart\\nLila\\nLin\\nLinda\\nLinder\\nLindsay\\nLindsey\\nLinley\\nLisa\\nList\\nLiyuan\\nLiz\\nLiza\\nLloyd\\nLois\\nLonhyn\\nLord\\nLoren\\nLorenzo\\nLori\\nLorien\\nLorraine\\nLou\\nLouiqa\\nLouis\\nLouise\\nLoukas\\nLowell\\nLoyd\\nLuc\\nLucifer\\nLucius\\nLui\\nLuis\\nLukas\\nLuke\\nLum\\nLyndon\\nLynn\\nLynne\\nLynnette\\nMaarten\\nMac\\nMagnus\\nMah\\nMahesh\\nMahmoud\\nMajor\\nMalaclypse\\nMalcolm\\nMalloy\\nMalus\\nManavendra\\nManjeri\\nMann\\nManny\\nManolis\\nManuel\\nMara\\nMarc\\nMarcel\\nMarci\\nMarcia\\nMarco\\nMarcos\\nMarek\\nMargaret\\nMargie\\nMargot\\nMarguerite\\nMaria\\nMarian\\nMarie\\nMarilyn\\nMario\\nMarion\\nMariou\\nMark\\nMarkus\\nMarla\\nMarlena\\nMarnix\\nMarsh\\nMarsha\\nMarshall\\nMartha\\nMartin\\nMarty\\nMartyn\\nMarvin\\nMary\\nMasanao\\nMasanobu\\nMason\\nMat\\nMats\\nMatt\\nMatthew\\nMatthias\\nMatthieu\\nMatti\\nMaureen\\nMaurice\\nMax\\nMayo\\nMechael\\nMeehan\\nMeeks\\nMehrdad\\nMelinda\\nMerat\\nMerril\\nMerton\\nMetin\\nMicah\\nMichael\\nMicheal\\nMichel\\nMichelle\\nMichiel\\nMick\\nMickey\\nMicky\\nMiek\\nMikael\\nMike\\nMikey\\nMiki\\nMiles\\nMilner\\nMilo\\nMiltos\\nMiriam\\nMiriamne\\nMitch\\nMitchell\\nMoe\\nMohammad\\nMolly\\nMongo\\nMonica\\nMonty\\nMoore\\nMoran\\nMorgan\\nMorris\\nMorton\\nMoses\\nMosur\\nMott\\nMurat\\nMurph\\nMurray\\nMurthy\\nMwa\\nMyrick\\nMyron\\nMysore\\nNadeem\\nNaim\\nNancy\\nNanda\\nNaomi\\nNaoto\\nNaren\\nNarendra\\nNaresh\\nNate\\nNathan\\nNathaniel\\nNatraj\\nNeal\\nNed\\nNeil\\nNelken\\nNeville\\nNguyen\\nNhan\\nNiall\\nNichael\\nNicholas\\nNici\\nNick\\nNicolas\\nNicolette\\nNicolo\\nNiels\\nNigel\\nNikolai\\nNils\\nNing\\nNinja\\nNo\\nNoam\\nNoemi\\nNora\\nNorbert\\nNorm\\nNorma\\nNorman\\nNou\\nNovo\\nNovorolsky\\nOfer\\nOlaf\\nOld\\nOle\\nOleg\\nOliver\\nOlivier\\nOlof\\nOlson\\nOmar\\nOrville\\nOscar\\nOskar\\nOwen\\nOzan\\nPablo\\nPage\\nPam\\nPamela\\nPanacea\\nPandora\\nPanos\\nPantelis\\nPanzer\\nPaola\\nPart\\nPascal\\nPat\\nPatrice\\nPatricia\\nPatricio\\nPatrick\\nPatty\\nPaul\\nPaula\\nPedro\\nPeggy\\nPenny\\nPer\\nPerry\\nPete\\nPeter\\nPetr\\nPhil\\nPhilip\\nPhilippe\\nPhill\\nPhillip\\nPhiroze\\nPia\\nPiercarlo\\nPierce\\nPierette\\nPierre\\nPiet\\nPiete\\nPieter\\nPilar\\nPilot\\nPim\\nPing\\nPiotr\\nPitawas\\nPlastic\\nPo\\nPolly\\nPontus\\nPradeep\\nPrakash\\nPratap\\nPratapwant\\nPratt\\nPravin\\nPresley\\nPria\\nPrice\\nRaanan\\nRabin\\nRadek\\nRafael\\nRafik\\nRaghu\\nRagnar\\nRahul\\nRaif\\nRainer\\nRaj\\nRaja\\nRajarshi\\nRajeev\\nRajendra\\nRajesh\\nRajiv\\nRakhal\\nRalf\\nRalph\\nRam\\nRamadoss\\nRaman\\nRamanan\\nRamesh\\nRamiro\\nRamneek\\nRamsey\\nRand\\nRandal\\nRandall\\nRandell\\nRandolph\\nRandy\\nRanjit\\nRaphael\\nRathnakumar\\nRaul\\nRavi\\nRavindran\\nRavindranath\\nRay\\nRayan\\nRaymond\\nReal\\nRebecca\\nRees\\nReid\\nReiner\\nReinhard\\nRenu\\nRevised\\nRex\\nRhonda\\nRic\\nRicardo\\nRich\\nRichard\\nRick\\nRicky\\nRik\\nRitalynne\\nRitchey\\nRo\\nRob\\nRobbin\\nRobert\\nRoberta\\nRoberto\\nRobin\\nRod\\nRodent\\nRoderick\\nRodger\\nRodney\\nRoger\\nRogue\\nRoland\\nRolf\\nRolfe\\nRomain\\nRoman\\nRon\\nRonald\\nRonni\\nRoot\\nRoss\\nRoxana\\nRoxane\\nRoxanne\\nRoxie\\nRoy\\nRudolf\\nRudolph\\nRudy\\nRupert\\nRuss\\nRussell\\nRusty\\nRuth\\nSaad\\nSabrina\\nSaify\\nSaiid\\nSal\\nSally\\nSam\\nSamir\\nSamuel\\nSanand\\nSanche\\nSandeep\\nSandip\\nSandra\\nSandy\\nSanford\\nSangho\\nSanity\\nSanjay\\nSanjeev\\nSanjib\\nSanta\\nSaqib\\nSarah\\nSassan\\nSaul\\nSaumya\\nScot\\nScott\\nSean\\nSedat\\nSedovic\\nSeenu\\nSehyo\\nSekar\\nSerdar\\nSergeant\\nSergei\\nSergio\\nSergiu\\nSeth\\nSeymour\\nShadow\\nShahid\\nShai\\nShakil\\nShamim\\nShane\\nShankar\\nShannon\\nSharada\\nSharan\\nShari\\nSharon\\nShatter\\nShaw\\nShawn\\nShean\\nSheila\\nShel\\nSherman\\nSherri\\nShirley\\nSho\\nShutoku\\nShuvra\\nShyam\\nSid\\nSidney\\nSiegurd\\nSigurd\\nSimon\\nSiping\\nSir\\nSjaak\\nSjouke\\nSkeeter\\nSkef\\nSkip\\nSlartibartfast\\nSocorrito\\nSofia\\nSofoklis\\nSon\\nSonja\\nSonny\\nSoohong\\nSorrel\\nSpace\\nSpass\\nSpencer\\nSpike\\nSpock\\nSpudboy\\nSpy\\nSpyros\\nSri\\nSridhar\\nSridharan\\nSrikanth\\nSrinivas\\nSrinivasan\\nSriram\\nSrivatsan\\nSsi\\nStacey\\nStacy\\nStagger\\nStan\\nStanislaw\\nStanley\\nStanly\\nStarbuck\\nSteen\\nStefan\\nStephan\\nStephanie\\nStephe\\nStephen\\nStevan\\nSteve\\nSteven\\nStewart\\nStraka\\nStu\\nStuart\\nSubra\\nSue\\nSugih\\nSumitro\\nSundar\\nSundaresan\\nSunil\\nSuresh\\nSurya\\nSusan\\nSusanne\\nSusumu\\nSuu\\nSuwandi\\nSuyog\\nSuzan\\nSuzanne\\nSvante\\nSwamy\\nSyd\\nSyed\\nSylvan\\nSyun\\nTad\\nTahsin\\nTai\\nTait\\nTakao\\nTakayuki\\nTakeuchi\\nTal\\nTammy\\nTanaka\\nTandy\\nTanya\\nTao\\nTareq\\nTarmi\\nTaurus\\nTed\\nTeresa\\nTeri\\nTeriann\\nTerrance\\nTerrence\\nTerri\\nTerry\\nTeruyuki\\nThad\\nTharen\\nThe\\nTheo\\nTheodore\\nThierry\\nThink\\nThomas\\nThose\\nThuan\\nTi\\nTiefenthal\\nTigger\\nTim\\nTimo\\nTimothy\\nTobias\\nToby\\nTodd\\nToerless\\nToft\\nTolerant\\nTollefsen\\nTom\\nTomas\\nTommy\\nTony\\nTor\\nTorsten\\nToufic\\nTovah\\nTracey\\nTracy\\nTran\\nTravis\\nTrent\\nTrevor\\nTrey\\nTriantaphyllos\\nTricia\\nTroy\\nTrying\\nTuan\\nTuna\\nTurkeer\\nTyler\\nUri\\nUrs\\nVadim\\nVal\\nValentin\\nValeria\\nValerie\\nVan\\nVance\\nVarda\\nVassos\\nVaughn\\nVenkata\\nVern\\nVernon\\nVic\\nVice\\nVick\\nVicki\\nVickie\\nVicky\\nVictor\\nVictoria\\nVidhyanath\\nVijay\\nVilhelm\\nVince\\nVincent\\nVincenzo\\nVinod\\nVishal\\nVistlik\\nVivek\\nVladimir\\nVladislav\\nWade\\nWalt\\nWalter\\nWarren\\nWayne\\nWendell\\nWendy\\nWendi\\nWerner\\nWes\\nWill\\nWilliam\\nWillie\\nWilmer\\nWilson\\nWin\\nWinnie\\nWinston\\nWolf\\nWolfgang\\nWoody\\nYvonne\\n'"
      ]
     },
     "execution_count": 3,
     "metadata": {},
     "output_type": "execute_result"
    }
   ],
   "source": [
    "# ponizej surowy html w postaci jednego wielkiego stringu przedielonego \\n escape character czyli jednym \n",
    "# z znakow modyfikacji    https://pl.wikipedia.org/wiki/Znak_modyfikacji\n",
    "r.text"
   ]
  },
  {
   "cell_type": "code",
   "execution_count": 4,
   "metadata": {},
   "outputs": [],
   "source": [
    "text = r.text "
   ]
  },
  {
   "cell_type": "code",
   "execution_count": 5,
   "metadata": {},
   "outputs": [],
   "source": [
    "# motoda split dzieli string na spacji jesli nie podajemy parametru w nawiasie\n",
    "individual_word = text.split()"
   ]
  },
  {
   "cell_type": "code",
   "execution_count": 6,
   "metadata": {},
   "outputs": [
    {
     "data": {
      "text/plain": [
       "1323"
      ]
     },
     "execution_count": 6,
     "metadata": {},
     "output_type": "execute_result"
    }
   ],
   "source": [
    "len(individual_word)"
   ]
  },
  {
   "cell_type": "code",
   "execution_count": 7,
   "metadata": {},
   "outputs": [
    {
     "name": "stdout",
     "output_type": "stream",
     "text": [
      "tat\n",
      "mam\n"
     ]
    }
   ],
   "source": [
    "print('tat\\nmam')"
   ]
  },
  {
   "cell_type": "code",
   "execution_count": 8,
   "metadata": {},
   "outputs": [],
   "source": [
    "# nastpnie generujemy liczbe losowa z przedzialy 0 do ilosc naszych imion czyli 1323\n",
    "random_number = randint(0, len(individual_word))"
   ]
  },
  {
   "cell_type": "code",
   "execution_count": 9,
   "metadata": {},
   "outputs": [
    {
     "name": "stdout",
     "output_type": "stream",
     "text": [
      "Honzo\n"
     ]
    }
   ],
   "source": [
    "# nastpnie za pomoca indexu zapisanego w zmiennej random_number otrzymujemy nazwe psa \n",
    "print(individual_word[random_number])"
   ]
  },
  {
   "cell_type": "code",
   "execution_count": null,
   "metadata": {},
   "outputs": [],
   "source": []
  }
 ],
 "metadata": {
  "kernelspec": {
   "display_name": "Python 3",
   "language": "python",
   "name": "python3"
  },
  "language_info": {
   "codemirror_mode": {
    "name": "ipython",
    "version": 3
   },
   "file_extension": ".py",
   "mimetype": "text/x-python",
   "name": "python",
   "nbconvert_exporter": "python",
   "pygments_lexer": "ipython3",
   "version": "3.8.5"
  }
 },
 "nbformat": 4,
 "nbformat_minor": 4
}
