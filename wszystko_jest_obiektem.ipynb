{
 "cells": [
  {
   "cell_type": "code",
   "execution_count": 1,
   "metadata": {},
   "outputs": [],
   "source": [
    "# obikety \n",
    "lst = [1,2,3]"
   ]
  },
  {
   "cell_type": "code",
   "execution_count": 2,
   "metadata": {},
   "outputs": [
    {
     "data": {
      "text/plain": [
       "1"
      ]
     },
     "execution_count": 2,
     "metadata": {},
     "output_type": "execute_result"
    }
   ],
   "source": [
    "# Czy pamietacie jak wywolujemy methody na liscie?\n",
    "\n",
    "lst.count(2)"
   ]
  },
  {
   "cell_type": "code",
   "execution_count": 3,
   "metadata": {},
   "outputs": [
    {
     "name": "stdout",
     "output_type": "stream",
     "text": [
      "<class 'int'>\n"
     ]
    }
   ],
   "source": [
    "# to co bedziemy chcieli osiagnac na dzisiejszych zajeciach to stworzenie obiektu takie jak lista. \n",
    "# w pthonie WSZYSTKO JEST OBIEKTEM. Za pomoca fukcji type() mozemy sprawdzic typy obiektow np.\n",
    "\n",
    "print(type(1))"
   ]
  },
  {
   "cell_type": "code",
   "execution_count": 4,
   "metadata": {},
   "outputs": [
    {
     "name": "stdout",
     "output_type": "stream",
     "text": [
      "<class 'list'>\n",
      "<class 'tuple'>\n",
      "<class 'dict'>\n"
     ]
    }
   ],
   "source": [
    "print(type([]))\n",
    "print(type(()))\n",
    "print(type({}))"
   ]
  },
  {
   "cell_type": "code",
   "execution_count": 5,
   "metadata": {},
   "outputs": [],
   "source": [
    "# wszytskie powyzsze elementy to objekty. Zadajmy sobie pytanie jak stworzyc wlasny obiekt. \n",
    "# uzytkownicy moga stworzyc obiekt za pomoca slowa class "
   ]
  },
  {
   "cell_type": "code",
   "execution_count": 6,
   "metadata": {},
   "outputs": [],
   "source": [
    "# classa to blueprint, plan projektu ktory definuje nature przyszlego obiektu. Za pomoca class tworzymy instances\n",
    "# instancje danej klasy. https://pl.wikipedia.org/wiki/Instancja_(programowanie). Instancja to konkretny obiekt \n",
    "# stworzony na bazie danej klasy. dla przykladu powyzej stworzylismy konkretny obiekt lst ktory jest instancja \n",
    "# obiekty list"
   ]
  },
  {
   "cell_type": "code",
   "execution_count": 7,
   "metadata": {},
   "outputs": [
    {
     "name": "stdout",
     "output_type": "stream",
     "text": [
      "<class '__main__.Proba'>\n"
     ]
    }
   ],
   "source": [
    "# zobaczmy jak dziala class\n",
    "# stworzmy typ obiektu i nazwijmy go Proba\n",
    "\n",
    "class Proba:\n",
    "    pass \n",
    "\n",
    "# zainstancjujmy obiekt Proba \n",
    "\n",
    "x = Proba()\n",
    "print(type(x))"
   ]
  },
  {
   "cell_type": "code",
   "execution_count": 8,
   "metadata": {},
   "outputs": [],
   "source": [
    "# konwencja pythona postuluje nazywanie klas z duzej litery. x odnosi sie do nowej instancjacji klasy Proba. \n",
    "# narazie w obiekcie Proba mamy jedynie placeholder pass, kolejnym krokiem stworzenie atrybutow czyli charakterystyk \n",
    "# obiektu i metod czyli operacji ktore mozemy wykonac na obiekcie. Dla przykladu mozemy stworzyc klase Pies \n",
    "# atrybutem tej klasy moze byc rasa i imie a motodami moze byc metoda .szczekanie() ktora zwraca hauuuu"
   ]
  },
  {
   "cell_type": "code",
   "execution_count": 9,
   "metadata": {},
   "outputs": [],
   "source": [
    "# syntax przydatny przy tworzeniu atrybutow:\n",
    "# self.attribute = something \n",
    "# mamy tez specificzna metode __init__()\n",
    "# ta metoda sluzy inicjalizacji atrybutow obiketu. Dla przykladu:"
   ]
  },
  {
   "cell_type": "code",
   "execution_count": 10,
   "metadata": {},
   "outputs": [],
   "source": [
    "class Pies:\n",
    "    def __init__(self,rasa):\n",
    "        self.rasa = rasa \n",
    "\n",
    "fafik = Pies(rasa='Jamnik')\n",
    "szarik = Pies(rasa='Owczarek')"
   ]
  },
  {
   "cell_type": "code",
   "execution_count": 11,
   "metadata": {},
   "outputs": [],
   "source": [
    "# przeanalizujmy kod \n",
    "# specjalna metoda __init__ jest wywolany zaraz po tym jak obiekt Pies zostal stworzony \n",
    "# def __init__(self,rasa): kazdy atrybut w definicji klasy zaczyna sie poprzez referencje do obiektu self \n",
    "# rasa jest argumentem. Wartosc jest przekazywana podczas instancjacji klasy \n",
    "# self.rasa = rasa "
   ]
  },
  {
   "cell_type": "code",
   "execution_count": 12,
   "metadata": {},
   "outputs": [],
   "source": [
    "# stworzylismy dwie instacjacje klasy Pies z dwoma typami ras. Teraz mozemy miec dostep do tych atrybutow. "
   ]
  },
  {
   "cell_type": "code",
   "execution_count": 13,
   "metadata": {},
   "outputs": [
    {
     "data": {
      "text/plain": [
       "'Jamnik'"
      ]
     },
     "execution_count": 13,
     "metadata": {},
     "output_type": "execute_result"
    }
   ],
   "source": [
    "fafik.rasa"
   ]
  },
  {
   "cell_type": "code",
   "execution_count": 14,
   "metadata": {},
   "outputs": [
    {
     "data": {
      "text/plain": [
       "'Owczarek'"
      ]
     },
     "execution_count": 14,
     "metadata": {},
     "output_type": "execute_result"
    }
   ],
   "source": [
    "szarik.rasa"
   ]
  },
  {
   "cell_type": "code",
   "execution_count": 15,
   "metadata": {},
   "outputs": [],
   "source": [
    "# nie uzywamy po rasie nawiasu() poniewaz to jest zdefinowany atrybut i ktory nie potrzebuje argumentu "
   ]
  },
  {
   "cell_type": "code",
   "execution_count": 16,
   "metadata": {},
   "outputs": [],
   "source": [
    "# rozszerzmy nasz obiekt o dodatkowe atrybuty "
   ]
  },
  {
   "cell_type": "code",
   "execution_count": 17,
   "metadata": {},
   "outputs": [],
   "source": [
    "class Pies:\n",
    "    def __init__(self,rasa,imie):\n",
    "        self.rasa = rasa \n",
    "        self.imie = imie "
   ]
  },
  {
   "cell_type": "code",
   "execution_count": 18,
   "metadata": {},
   "outputs": [],
   "source": [
    "fafik = Pies('Jamnik', 'Faf')"
   ]
  },
  {
   "cell_type": "code",
   "execution_count": 19,
   "metadata": {},
   "outputs": [
    {
     "data": {
      "text/plain": [
       "'Jamnik'"
      ]
     },
     "execution_count": 19,
     "metadata": {},
     "output_type": "execute_result"
    }
   ],
   "source": [
    "fafik.rasa"
   ]
  },
  {
   "cell_type": "code",
   "execution_count": 20,
   "metadata": {},
   "outputs": [
    {
     "data": {
      "text/plain": [
       "'Faf'"
      ]
     },
     "execution_count": 20,
     "metadata": {},
     "output_type": "execute_result"
    }
   ],
   "source": [
    "fafik.imie"
   ]
  },
  {
   "cell_type": "code",
   "execution_count": 21,
   "metadata": {},
   "outputs": [],
   "source": [
    "# Metody \n",
    "# Metody to funkcje zdefinowane wewnatrz klasy. Sluza wykonywaniu operacji z atrybutami naszych obiektow. \n",
    "# Metody to kluczowy koncept paradygamtu OOB (Object oriented programming). W szczegolnosci w duzych aplikacjach \n",
    "# odpowiedzialne sa za \"podzial pracy\". \n",
    "# O methodach nalezy myslec jako o funkcjach odzialujacych na obiekty \n",
    "# zobaczmy przyklad:"
   ]
  },
  {
   "cell_type": "code",
   "execution_count": 22,
   "metadata": {},
   "outputs": [],
   "source": [
    "class Kolo:\n",
    "    pi = 3.14 \n",
    "    \n",
    "    # incjujemy kolo o promieniu domyslnie = 1 \n",
    "    def __init__(self, promien=1):\n",
    "        self.promien = promien\n",
    "        self.powierzchnia = promien * promien * self.pi\n",
    "        \n",
    "    # methoda sluzaca ustawieniu nowej wartosci promienia \n",
    "    def ustaw_pro(self, nowy_pro):\n",
    "        self.promien = nowy_pro\n",
    "        self.powierzchnia = nowy_pro * nowy_pro * self.pi\n",
    "        \n",
    "        \n",
    "    # metoda liczaca obwod kola \n",
    "    def obwod_kola(self):\n",
    "        return self.promien * self.pi * 2"
   ]
  },
  {
   "cell_type": "code",
   "execution_count": 23,
   "metadata": {},
   "outputs": [],
   "source": [
    "k = Kolo()"
   ]
  },
  {
   "cell_type": "code",
   "execution_count": 24,
   "metadata": {},
   "outputs": [
    {
     "name": "stdout",
     "output_type": "stream",
     "text": [
      "Promien wynosi:  1\n",
      "Powierzchnia wynosi:  3.14\n",
      "Obwod wynosi:  6.28\n"
     ]
    }
   ],
   "source": [
    "print(\"Promien wynosi: \", k.promien)\n",
    "print(\"Powierzchnia wynosi: \", k.powierzchnia)\n",
    "print(\"Obwod wynosi: \", k.obwod_kola())"
   ]
  },
  {
   "cell_type": "code",
   "execution_count": 25,
   "metadata": {},
   "outputs": [],
   "source": [
    "# zmienmy wartosc promienia "
   ]
  },
  {
   "cell_type": "code",
   "execution_count": 26,
   "metadata": {},
   "outputs": [],
   "source": [
    "k.ustaw_pro(2)"
   ]
  },
  {
   "cell_type": "code",
   "execution_count": 27,
   "metadata": {},
   "outputs": [
    {
     "name": "stdout",
     "output_type": "stream",
     "text": [
      "Promien wynosi:  2\n",
      "Powierzchnia wynosi:  12.56\n",
      "Obwod wynosi:  12.56\n"
     ]
    }
   ],
   "source": [
    "print(\"Promien wynosi: \", k.promien)\n",
    "print(\"Powierzchnia wynosi: \", k.powierzchnia)\n",
    "print(\"Obwod wynosi: \", k.obwod_kola())"
   ]
  },
  {
   "cell_type": "code",
   "execution_count": null,
   "metadata": {},
   "outputs": [],
   "source": []
  }
 ],
 "metadata": {
  "kernelspec": {
   "display_name": "Python 3",
   "language": "python",
   "name": "python3"
  },
  "language_info": {
   "codemirror_mode": {
    "name": "ipython",
    "version": 3
   },
   "file_extension": ".py",
   "mimetype": "text/x-python",
   "name": "python",
   "nbconvert_exporter": "python",
   "pygments_lexer": "ipython3",
   "version": "3.8.5"
  }
 },
 "nbformat": 4,
 "nbformat_minor": 4
}
