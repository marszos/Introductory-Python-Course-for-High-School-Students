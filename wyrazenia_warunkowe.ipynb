{
 "cells": [
  {
   "cell_type": "code",
   "execution_count": 1,
   "metadata": {},
   "outputs": [],
   "source": [
    "# Python Statements :: wyrazenia warunkowe \n",
    "# Wyrażenia warunkowe w Pythonie, ułatwiają nam sterowanie przebiegiem programu.\n",
    "# Są to operacje dość proste w opanowaniu, jednocześnie stanowią jedną z najważniejszych koncepcji którą musimy znać."
   ]
  },
  {
   "cell_type": "code",
   "execution_count": 2,
   "metadata": {},
   "outputs": [],
   "source": [
    "# nalezy podkreslic roznice pomiedzy pythonem a dajmy na to jezykiem C++ \n",
    "# python vs. inne jezyki programowania \n",
    "# stworzmy proste wyrazenie \"If (jezeli) a jest wieksze od b, przypisz 2 do a i 4 do b\""
   ]
  },
  {
   "cell_type": "code",
   "execution_count": 3,
   "metadata": {},
   "outputs": [
    {
     "ename": "SyntaxError",
     "evalue": "invalid syntax (<ipython-input-3-5f2ef8ad15cf>, line 2)",
     "output_type": "error",
     "traceback": [
      "\u001b[0;36m  File \u001b[0;32m\"<ipython-input-3-5f2ef8ad15cf>\"\u001b[0;36m, line \u001b[0;32m2\u001b[0m\n\u001b[0;31m    if (a<b){\u001b[0m\n\u001b[0m            ^\u001b[0m\n\u001b[0;31mSyntaxError\u001b[0m\u001b[0;31m:\u001b[0m invalid syntax\n"
     ]
    }
   ],
   "source": [
    "# wersja 1 (inny jezyk)\n",
    "if (a<b){\n",
    "    a = 2;\n",
    "    b = 4;\n",
    "}"
   ]
  },
  {
   "cell_type": "code",
   "execution_count": 4,
   "metadata": {},
   "outputs": [],
   "source": [
    "# wersja 2 (Python)\n",
    "#if a>b:\n",
    "#   a = 2 \n",
    "#   b = 4 "
   ]
  },
  {
   "cell_type": "code",
   "execution_count": 5,
   "metadata": {},
   "outputs": [],
   "source": [
    "# pierwesze co rzuca sie w oczy to fakt iz python jest mniej 'cluttered' (zagracony) i bardziej czytelny niz\n",
    "# pierwsza wersja \n",
    "# glowne roznice python pozbywa sie w instrukcji, w wyrazeniu nawiasow (), {} poprzez zinkorporowanie \n",
    "# dwukropka (colon) i whitespace (spacji). Wyraznie konczy sie dwukropkiem, a spacja jest uzyta jako \n",
    "# INDENTATION 'wciecie' by opisac co zostanie wykonane w wyniku spelnienia warunku if a > b "
   ]
  },
  {
   "cell_type": "code",
   "execution_count": 6,
   "metadata": {},
   "outputs": [],
   "source": [
    "# inna wazna roznica w stosunku do innych jezykow jest brak wystepowania srednika ; w wyrazeniach, instrukcjach \n",
    "# srednik jest stosowany w wielu innych jezykach by zaznaczyc koniec jakiegos wyrazenia \n",
    "# ale w pythonie koniec lini kodu jest rownoznaczna z koncem wyrazenia "
   ]
  },
  {
   "cell_type": "code",
   "execution_count": 7,
   "metadata": {},
   "outputs": [],
   "source": [
    "# if, elif, else Statements "
   ]
  },
  {
   "cell_type": "code",
   "execution_count": 8,
   "metadata": {},
   "outputs": [],
   "source": [
    "# wyrazenie if w pythonie umozliwa wykonanie alternatywnych operacji bazujacych na pewnym zbiorze warunkow \n",
    "# mozemy sobie wyobrazic iz mowimy do komputera \n",
    "# 'hey, komputer jesli TO sie zdarzy, wykonaj pewna akcje'\n",
    "# mozemy ten przyklad rozszerzyc wyrazeniami elif i else, co pozwoli na wydac komende komputerowi \n",
    "# 'hey, komputer jesli TO sie zdarzy, wykonaj pewna akcje. Jesli zdarzy sie cos innego, wykonaj inna akcje.\n",
    "# jesli zadna z powyzszych sytuacji sie nie zdarzy wykonaj TA akcje'"
   ]
  },
  {
   "cell_type": "code",
   "execution_count": 9,
   "metadata": {},
   "outputs": [
    {
     "ename": "SyntaxError",
     "evalue": "invalid syntax (<ipython-input-9-3ec904856fc2>, line 4)",
     "output_type": "error",
     "traceback": [
      "\u001b[0;36m  File \u001b[0;32m\"<ipython-input-9-3ec904856fc2>\"\u001b[0;36m, line \u001b[0;32m4\u001b[0m\n\u001b[0;31m    wykonaj akcja1\u001b[0m\n\u001b[0m            ^\u001b[0m\n\u001b[0;31mSyntaxError\u001b[0m\u001b[0;31m:\u001b[0m invalid syntax\n"
     ]
    }
   ],
   "source": [
    "# zobaczmy na skladnie, syntax wyrazenia if \n",
    "\n",
    "if case1:\n",
    "    wykonaj akcja1\n",
    "elif case2:\n",
    "    wykonaj akcja2 \n",
    "else:\n",
    "    wykonaj akcja3"
   ]
  },
  {
   "cell_type": "code",
   "execution_count": 10,
   "metadata": {},
   "outputs": [
    {
     "name": "stdout",
     "output_type": "stream",
     "text": [
      "It was true!\n"
     ]
    }
   ],
   "source": [
    "if True:\n",
    "    print('It was true!')"
   ]
  },
  {
   "cell_type": "code",
   "execution_count": 11,
   "metadata": {},
   "outputs": [
    {
     "name": "stdout",
     "output_type": "stream",
     "text": [
      "I will be printed in any case where x is not true\n"
     ]
    }
   ],
   "source": [
    "# rozbudujmy \n",
    "x = False \n",
    "\n",
    "if x:\n",
    "    print('x was True')\n",
    "else:\n",
    "    print('I will be printed in any case where x is not true')"
   ]
  },
  {
   "cell_type": "code",
   "execution_count": 12,
   "metadata": {},
   "outputs": [
    {
     "name": "stdout",
     "output_type": "stream",
     "text": [
      "Welcome to the bank!\n"
     ]
    }
   ],
   "source": [
    "# rozbudujmy troche galezie wyrazenia if \n",
    "\n",
    "loc = 'Bank'\n",
    "\n",
    "if loc == 'Auto Shop':\n",
    "    print('Welcome to the Auto Shop!')\n",
    "elif loc == 'Bank':\n",
    "    print('Welcome to the bank!')\n",
    "else:\n",
    "    print('Where are you?')"
   ]
  },
  {
   "cell_type": "code",
   "execution_count": 13,
   "metadata": {},
   "outputs": [],
   "source": [
    "# uwaga! if, elif, and else line up in the code \n",
    "# zauwazcie jak powyzszej instrukcji kazde z wyrazen if jest sprawdzane do momentu uzyskania booleanskiej \n",
    "# wartosci True \n",
    "# You should also note that you can put in as many elif statements as you want before you close off with an else."
   ]
  },
  {
   "cell_type": "code",
   "execution_count": 14,
   "metadata": {},
   "outputs": [
    {
     "name": "stdout",
     "output_type": "stream",
     "text": [
      "Welcome Sammy!\n"
     ]
    }
   ],
   "source": [
    "# dwa dodatkowe przyklady \n",
    "person = 'Sammy'\n",
    "\n",
    "if person == 'Sammy':\n",
    "    print('Welcome Sammy!')\n",
    "else:\n",
    "    print(\"Welcome, what's your name?\")"
   ]
  },
  {
   "cell_type": "code",
   "execution_count": 15,
   "metadata": {},
   "outputs": [
    {
     "name": "stdout",
     "output_type": "stream",
     "text": [
      "Welcome George!\n"
     ]
    }
   ],
   "source": [
    "person = 'George'\n",
    "\n",
    "if person == 'Sammy':\n",
    "    print('Welcome Sammy!')\n",
    "elif person =='George':\n",
    "    print('Welcome George!')\n",
    "else:\n",
    "    print(\"Welcome, what's your name?\")"
   ]
  },
  {
   "cell_type": "code",
   "execution_count": null,
   "metadata": {},
   "outputs": [],
   "source": []
  }
 ],
 "metadata": {
  "kernelspec": {
   "display_name": "Python 3",
   "language": "python",
   "name": "python3"
  },
  "language_info": {
   "codemirror_mode": {
    "name": "ipython",
    "version": 3
   },
   "file_extension": ".py",
   "mimetype": "text/x-python",
   "name": "python",
   "nbconvert_exporter": "python",
   "pygments_lexer": "ipython3",
   "version": "3.8.5"
  }
 },
 "nbformat": 4,
 "nbformat_minor": 4
}
