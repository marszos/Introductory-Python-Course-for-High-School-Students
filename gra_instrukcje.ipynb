{
 "cells": [
  {
   "cell_type": "code",
   "execution_count": 1,
   "metadata": {},
   "outputs": [],
   "source": [
    "# Gra w zgadywanie liczby wylosowanej przez komputer \n",
    "# Prosze wykorzystac petle while do stworzenia gry \n",
    "\n",
    "#Gra reguly \n",
    "# Prosze napisac program ktory wybierze liczbe losowo w przedziale od 1 do 100 a nastepnie gracz bedzie zgadywal \n",
    "# jaka to liczba \n",
    "\n",
    "# 1.Jesli liczba gracza jest mniejsza niz 1 lub wieksza niz 100, prosze wydrukowac komunikat \"Liczba poza przedzialem\"'\n",
    "# 2.Jezeli w pierwszej rundzie liczba gracza jest \n",
    "#   - w odleglosci nie wiekszej niz 10 od liczby wygenerowanej przez komputer prosze wydrukowac komunikat \"CIEPLO\"\n",
    "#   - w przeciwnym wypadku (gdzy liczba jest oddalona o wiecej niz 10) prosze wydrukowac komunikat \"ZIMNO\"\n",
    "\n",
    "#   - jest blizej do liczby wygenerowanej przez komputer niz poprzednia liczba z pierwszej rundy wydrukuj \"CIEPLEJ\"\n",
    "#   - w przeciwnym wypadku \"ZIMNIEJ\"\n",
    "# 4. Kiedy liczba gracza bedzie rowna liczbie wygenerowanej przez komputer, prosze poinformowac gracza iz zgadl, wraz\n",
    "#    z liczba rund ktore doprowdzily do wlasciwego wyniku!"
   ]
  },
  {
   "cell_type": "code",
   "execution_count": 2,
   "metadata": {},
   "outputs": [],
   "source": [
    "# Pierwsze zadanie to wylosowanie liczby calkowitej pomiedzy 1 i 100. Do tego celu uzyjemy modulu random (*)\n",
    "# a nastepnie wygenrowana w ten sposob liczbe zapiszemy w zmiennej \n",
    "\n",
    "# dwie uwagi \n",
    "# (*) nomenklatura random to modul a nie biblioteka:: roznica:: (library is a collection of related functionality, \n",
    "# whereas a module only provides a single piece of functionality)\n",
    "\n",
    "# random.randint(a,b) wygneruje liczy od a do b wlacznie. to nie indexowanie [a,b] w ktorym gorny prog nie wchodzi \n",
    "# do zbioru "
   ]
  },
  {
   "cell_type": "code",
   "execution_count": 3,
   "metadata": {},
   "outputs": [],
   "source": [
    "# importujemy modul jak biblioteke \n",
    "\n",
    "import random\n",
    "\n",
    "# zapisujemy wartos w zmiennej num \n",
    "\n",
    "num = random.randint(1,100)"
   ]
  },
  {
   "cell_type": "code",
   "execution_count": 4,
   "metadata": {},
   "outputs": [
    {
     "name": "stdout",
     "output_type": "stream",
     "text": [
      "WITAJ W GRZE ZGADYWANIE LICZBY!\n",
      "komputer:: Mysle o liczbie z przedzialu od 1 do 100\n",
      "Jesli Twoja liczba bedzie w odleglosci wiekszej niz 10, wyswietle komunikat - ZIMNO\n",
      "Jesli Twoja liczba bedzie w odleglosci mniejszej niz 10, wyswietle komunikat - CIEPLO\n",
      "Jesli Twoja kolejna liczba bedzie dalej od mojej niz Twoje ostatnie zgadywanie, wyswietle komunikat ZIMNIEJ\n",
      "Jesli Twoja kolejna liczba bedzie blizej od mojej niz Twoje ostatnie zgadywanie, wyswietle komunikat CIEPLEJ\n",
      "ZAGRAJMY!\n"
     ]
    }
   ],
   "source": [
    "# Nastepnie drukujemy reguly \n",
    "\n",
    "print(\"WITAJ W GRZE ZGADYWANIE LICZBY!\")\n",
    "print(\"komputer:: Mysle o liczbie z przedzialu od 1 do 100\")\n",
    "print(\"Jesli Twoja liczba bedzie w odleglosci wiekszej niz 10, wyswietle komunikat - ZIMNO\")\n",
    "print(\"Jesli Twoja liczba bedzie w odleglosci mniejszej niz 10, wyswietle komunikat - CIEPLO\")\n",
    "print(\"Jesli Twoja kolejna liczba bedzie dalej od mojej niz Twoje ostatnie zgadywanie, wyswietle komunikat ZIMNIEJ\")\n",
    "print(\"Jesli Twoja kolejna liczba bedzie blizej od mojej niz Twoje ostatnie zgadywanie, wyswietle komunikat CIEPLEJ\")\n",
    "print(\"ZAGRAJMY!\")"
   ]
  },
  {
   "cell_type": "code",
   "execution_count": 5,
   "metadata": {},
   "outputs": [],
   "source": [
    "# stworz liste ktora bedzie przechowywala zgadywane liczby \n",
    "# podpowiedz - zero to dobry placeholder w liscie na przyszle wartosci. Jest uzytenczy bo przy booleanskiej ewaluacji \n",
    "# daje wartosc \"FALSE\" - bedzie to na potrzebn. zrozumiecie jak zobaczycie "
   ]
  },
  {
   "cell_type": "code",
   "execution_count": 6,
   "metadata": {},
   "outputs": [],
   "source": [
    "guesses = [0]"
   ]
  },
  {
   "cell_type": "code",
   "execution_count": 8,
   "metadata": {},
   "outputs": [
    {
     "name": "stdout",
     "output_type": "stream",
     "text": [
      "komputer:: Mysle o liczbie z przedzialu od 1 do 100.\n",
      "  Podaj swoja liczbe? -1\n",
      "POZA PRZEDZIALEM! Spróbuj jeszcze raz: \n",
      "komputer:: Mysle o liczbie z przedzialu od 1 do 100.\n",
      "  Podaj swoja liczbe? -2\n",
      "POZA PRZEDZIALEM! Spróbuj jeszcze raz: \n",
      "komputer:: Mysle o liczbie z przedzialu od 1 do 100.\n",
      "  Podaj swoja liczbe? 10\n"
     ]
    }
   ],
   "source": [
    "# stworzymy szkielet petli while i przetestujmy przpypadek graniczny kiedy nasza liczba jest poza przedzialem \n",
    "\n",
    "while True:\n",
    "    \n",
    "    guess = int(input(\"komputer:: Mysle o liczbie z przedzialu od 1 do 100.\\n  Podaj swoja liczbe? \"))\n",
    "    \n",
    "    if guess < 1 or guess > 100:\n",
    "        print('POZA PRZEDZIALEM! Spróbuj jeszcze raz: ')\n",
    "        continue\n",
    "        \n",
    "    break"
   ]
  },
  {
   "cell_type": "code",
   "execution_count": 9,
   "metadata": {},
   "outputs": [],
   "source": [
    "# prosze napisac petle while ktora porownuje liczbe gracza z liczba wygenrowana przez komputer \n",
    "# jesli gracz zgadl za pierwszym razem przerwij petle komenda break. W przeciwnym wypadku \n",
    "# powiedz graczowi czy jest blizej (CIEPLO, CIEPLEJ) czy dalej (ZIMNO, ZIMNIEJ) od liczby wygenrowanej przez komputer "
   ]
  },
  {
   "cell_type": "code",
   "execution_count": 10,
   "metadata": {},
   "outputs": [],
   "source": [
    "# podpowiedzi \n",
    "# - prosze uzyc funkcji abs() wartosc absolutna w celu znalezinia pozytywnej roznicy pomiedzy liczbami \n",
    "# - jesli dolaczamy do listy kolejne liczby zgadywane przez gracza poprzednia liczba w liscie znajduje sie na \n",
    "# pozycji guesses[-2]"
   ]
  },
  {
   "cell_type": "code",
   "execution_count": 11,
   "metadata": {},
   "outputs": [
    {
     "name": "stdout",
     "output_type": "stream",
     "text": [
      "komputer:: Mysle o liczbie z przedzialu od 1 do 100.\n",
      "  Podaj swoja liczbe? 10\n",
      "ZIMNO!\n",
      "komputer:: Mysle o liczbie z przedzialu od 1 do 100.\n",
      "  Podaj swoja liczbe? 20\n",
      "CIEPLEJ!\n",
      "komputer:: Mysle o liczbie z przedzialu od 1 do 100.\n",
      "  Podaj swoja liczbe? 21\n",
      "CIEPLEJ!\n",
      "komputer:: Mysle o liczbie z przedzialu od 1 do 100.\n",
      "  Podaj swoja liczbe? 22\n",
      "CIEPLEJ!\n",
      "komputer:: Mysle o liczbie z przedzialu od 1 do 100.\n",
      "  Podaj swoja liczbe? 30\n",
      "CIEPLEJ!\n",
      "komputer:: Mysle o liczbie z przedzialu od 1 do 100.\n",
      "  Podaj swoja liczbe? 40\n",
      "ZIMNIEJ!\n",
      "komputer:: Mysle o liczbie z przedzialu od 1 do 100.\n",
      "  Podaj swoja liczbe? 32\n",
      "CIEPLEJ!\n",
      "komputer:: Mysle o liczbie z przedzialu od 1 do 100.\n",
      "  Podaj swoja liczbe? 33\n",
      "ZIMNIEJ!\n",
      "komputer:: Mysle o liczbie z przedzialu od 1 do 100.\n",
      "  Podaj swoja liczbe? 31\n",
      "CIEPLEJ!\n",
      "komputer:: Mysle o liczbie z przedzialu od 1 do 100.\n",
      "  Podaj swoja liczbe? 29\n",
      "GRATULACJE ZGADLES/AS JEDYNIE W 10 RUNDACH\n"
     ]
    }
   ],
   "source": [
    "# logika gry \n",
    "\n",
    "import random\n",
    "\n",
    "# zapisujemy wartos w zmiennej num \n",
    "\n",
    "num = random.randint(1,100)\n",
    "\n",
    "#ta lista bedzie przechowywac zgadywane liczy w sytuacji kiedy nie udalo sie zgadnac w pierwszej rundzie\n",
    "guesses = [0]\n",
    "\n",
    "\n",
    "# kopiujemy szkielet while \n",
    "while True:\n",
    "    \n",
    "    guess = int(input(\"komputer:: Mysle o liczbie z przedzialu od 1 do 100.\\n  Podaj swoja liczbe? \"))\n",
    "    \n",
    "    if guess < 1 or guess > 100:\n",
    "        print('POZA PRZEDZIALEM! Spróbuj jeszcze raz: ')\n",
    "        continue\n",
    "    \n",
    "    # porownujemy liczbe gracza z liczba komputera i wyswietlamy komunikat o zwyciestwie w przypadku \n",
    "    # kiedy dwie liczby sa sobie rowne \n",
    "    \n",
    "    if guess == num:\n",
    "        print(\"GRATULACJE ZGADLES/AS JEDYNIE W \"+str(len(guesses))+\" RUNDACH\")\n",
    "        break \n",
    "        \n",
    "    #jesli liczby sie roznia, nalezy dodac liczbe gracza do listy \n",
    "    guesses.append(guess)\n",
    "    \n",
    "    #kiedy testujemy liczbe z rundy pierwszej, guesses[-2] == 0, <-- warunek ten daje nam wartosc False\n",
    "    # i sprowadza nas do drugiej sekcji wyrazenia if \n",
    "    # bool(0) = Fasle bool(1....) = True \n",
    "    \n",
    "    \n",
    "    if guesses[-2]:\n",
    "        if abs(num-guess) < abs(num-guesses[-2]):\n",
    "            print(\"CIEPLEJ!\")\n",
    "        else:\n",
    "            print(\"ZIMNIEJ!\")\n",
    "    \n",
    "    else:\n",
    "        if abs(num-guess) <= 10:\n",
    "            print(\"CIEPLO!\")\n",
    "        else:\n",
    "            print(\"ZIMNO!\")"
   ]
  },
  {
   "cell_type": "code",
   "execution_count": null,
   "metadata": {},
   "outputs": [],
   "source": []
  }
 ],
 "metadata": {
  "kernelspec": {
   "display_name": "Python 3",
   "language": "python",
   "name": "python3"
  },
  "language_info": {
   "codemirror_mode": {
    "name": "ipython",
    "version": 3
   },
   "file_extension": ".py",
   "mimetype": "text/x-python",
   "name": "python",
   "nbconvert_exporter": "python",
   "pygments_lexer": "ipython3",
   "version": "3.8.5"
  }
 },
 "nbformat": 4,
 "nbformat_minor": 4
}
